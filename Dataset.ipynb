{
  "nbformat": 4,
  "nbformat_minor": 0,
  "metadata": {
    "colab": {
      "name": "Dataset.ipynb",
      "provenance": [],
      "include_colab_link": true
    },
    "kernelspec": {
      "name": "python3",
      "display_name": "Python 3"
    }
  },
  "cells": [
    {
      "cell_type": "markdown",
      "metadata": {
        "id": "view-in-github",
        "colab_type": "text"
      },
      "source": [
        "<a href=\"https://colab.research.google.com/github/iamsmruti/depression-screening/blob/main/Dataset.ipynb\" target=\"_parent\"><img src=\"https://colab.research.google.com/assets/colab-badge.svg\" alt=\"Open In Colab\"/></a>"
      ]
    },
    {
      "cell_type": "markdown",
      "metadata": {
        "id": "KzJZoQdi2jNN"
      },
      "source": [
        "**Get all the text from the DAIC-WOZ server**"
      ]
    },
    {
      "cell_type": "code",
      "metadata": {
        "id": "ADVA5y8ZwfZr",
        "colab": {
          "base_uri": "https://localhost:8080/"
        },
        "outputId": "9da4e01a-9b65-4c75-a9b5-1090ae9e623f"
      },
      "source": [
        "for i in range(320, 340):\n",
        "    url = f\"https://dcapswoz.ict.usc.edu/wwwedaic/data/{i}_P.tar\"\n",
        "    !wget {url}\n",
        "\n"
      ],
      "execution_count": null,
      "outputs": [
        {
          "output_type": "stream",
          "name": "stdout",
          "text": [
            "--2023-11-30 17:39:14--  https://dcapswoz.ict.usc.edu/wwwedaic/data/320_P.tar\n",
            "Resolving dcapswoz.ict.usc.edu (dcapswoz.ict.usc.edu)... 68.181.7.39\n",
            "Connecting to dcapswoz.ict.usc.edu (dcapswoz.ict.usc.edu)|68.181.7.39|:443... connected.\n",
            "HTTP request sent, awaiting response... 200 OK\n",
            "Length: 353296001 (337M) [application/x-tar]\n",
            "Saving to: ‘320_P.tar’\n",
            "\n",
            "320_P.tar           100%[===================>] 336.93M  2.32MB/s    in 3m 38s  \n",
            "\n",
            "2023-11-30 17:42:52 (1.54 MB/s) - ‘320_P.tar’ saved [353296001/353296001]\n",
            "\n",
            "--2023-11-30 17:42:52--  https://dcapswoz.ict.usc.edu/wwwedaic/data/321_P.tar\n",
            "Resolving dcapswoz.ict.usc.edu (dcapswoz.ict.usc.edu)... 68.181.7.39\n",
            "Connecting to dcapswoz.ict.usc.edu (dcapswoz.ict.usc.edu)|68.181.7.39|:443... connected.\n",
            "HTTP request sent, awaiting response... 200 OK\n",
            "Length: 364738320 (348M) [application/x-tar]\n",
            "Saving to: ‘321_P.tar’\n",
            "\n",
            "321_P.tar           100%[===================>] 347.84M  1.61MB/s    in 5m 1s   \n",
            "\n",
            "2023-11-30 17:47:55 (1.16 MB/s) - ‘321_P.tar’ saved [364738320/364738320]\n",
            "\n",
            "--2023-11-30 17:47:55--  https://dcapswoz.ict.usc.edu/wwwedaic/data/322_P.tar\n",
            "Resolving dcapswoz.ict.usc.edu (dcapswoz.ict.usc.edu)... 68.181.7.39\n",
            "Connecting to dcapswoz.ict.usc.edu (dcapswoz.ict.usc.edu)|68.181.7.39|:443... connected.\n",
            "HTTP request sent, awaiting response... 200 OK\n",
            "Length: 400962223 (382M) [application/x-tar]\n",
            "Saving to: ‘322_P.tar’\n",
            "\n",
            "322_P.tar            19%[==>                 ]  72.75M  5.59MB/s    eta 45s    ^C\n",
            "--2023-11-30 17:48:06--  https://dcapswoz.ict.usc.edu/wwwedaic/data/323_P.tar\n",
            "Resolving dcapswoz.ict.usc.edu (dcapswoz.ict.usc.edu)... 68.181.7.39\n",
            "Connecting to dcapswoz.ict.usc.edu (dcapswoz.ict.usc.edu)|68.181.7.39|:443... connected.\n",
            "HTTP request sent, awaiting response... 200 OK\n",
            "Length: 357728162 (341M) [application/x-tar]\n",
            "Saving to: ‘323_P.tar’\n",
            "\n",
            "323_P.tar             0%[                    ]   1.82M  2.71MB/s               ^C\n",
            "--2023-11-30 17:48:07--  https://dcapswoz.ict.usc.edu/wwwedaic/data/324_P.tar\n",
            "Resolving dcapswoz.ict.usc.edu (dcapswoz.ict.usc.edu)... 68.181.7.39\n",
            "Connecting to dcapswoz.ict.usc.edu (dcapswoz.ict.usc.edu)|68.181.7.39|:443... ^C\n",
            "--2023-11-30 17:48:08--  https://dcapswoz.ict.usc.edu/wwwedaic/data/325_P.tar\n",
            "Resolving dcapswoz.ict.usc.edu (dcapswoz.ict.usc.edu)... 68.181.7.39\n",
            "Connecting to dcapswoz.ict.usc.edu (dcapswoz.ict.usc.edu)|68.181.7.39|:443... connected.\n",
            "HTTP request sent, awaiting response... 200 OK\n",
            "Length: 395406353 (377M) [application/x-tar]\n",
            "Saving to: ‘325_P.tar’\n",
            "\n",
            "325_P.tar             0%[                    ]  77.87K   186KB/s               ^C\n",
            "--2023-11-30 17:48:09--  https://dcapswoz.ict.usc.edu/wwwedaic/data/326_P.tar\n",
            "Resolving dcapswoz.ict.usc.edu (dcapswoz.ict.usc.edu)... 68.181.7.39\n",
            "Connecting to dcapswoz.ict.usc.edu (dcapswoz.ict.usc.edu)|68.181.7.39|:443... connected.\n",
            "HTTP request sent, awaiting response... 200 OK\n",
            "Length: 254794622 (243M) [application/x-tar]\n",
            "Saving to: ‘326_P.tar’\n",
            "\n",
            "326_P.tar             6%[>                   ]  17.00M  9.72MB/s               "
          ]
        }
      ]
    },
    {
      "cell_type": "markdown",
      "metadata": {
        "id": "Fe6z7VNF2qFw"
      },
      "source": [
        "**Importing Google Drive to Work with Colab**"
      ]
    },
    {
      "cell_type": "code",
      "metadata": {
        "id": "i6iOM2b6fIpX",
        "outputId": "3bffe4f4-710a-4801-e9f8-0e4908fdec61",
        "colab": {
          "base_uri": "https://localhost:8080/"
        }
      },
      "source": [
        "from google.colab import drive\n",
        "drive.mount('/content/drive')\n"
      ],
      "execution_count": 3,
      "outputs": [
        {
          "output_type": "stream",
          "name": "stdout",
          "text": [
            "Drive already mounted at /content/drive; to attempt to forcibly remount, call drive.mount(\"/content/drive\", force_remount=True).\n"
          ]
        }
      ]
    },
    {
      "cell_type": "markdown",
      "metadata": {
        "id": "hLPHSt3Z2woB"
      },
      "source": [
        "**Move All Zip Files from Colab to Drive for permanent storage**"
      ]
    },
    {
      "cell_type": "code",
      "metadata": {
        "id": "SxkwqHcPjpP8"
      },
      "source": [
        "import os\n",
        "!mkdir /content/drive/MyDrive/DataSet\n",
        "os.chdir('/content/drive/MyDrive/DataSet')\n"
      ],
      "execution_count": 5,
      "outputs": []
    },
    {
      "cell_type": "code",
      "metadata": {
        "id": "5g6O1q7kiiY6"
      },
      "source": [
        "!mv /content/*.tar \"/content/drive/MyDrive/DataSet\"\n"
      ],
      "execution_count": 14,
      "outputs": []
    },
    {
      "cell_type": "markdown",
      "source": [
        "# New section"
      ],
      "metadata": {
        "id": "idgWzCDvN2_b"
      }
    },
    {
      "cell_type": "code",
      "metadata": {
        "id": "T7m95ngtjbx8"
      },
      "source": [
        "!cd \"/content/drive/MyDrive/DataSet\"\n"
      ],
      "execution_count": 16,
      "outputs": []
    },
    {
      "cell_type": "markdown",
      "metadata": {
        "id": "Wp14LbpY27tR"
      },
      "source": [
        "**Making directories and unzipping to respective locations **\n",
        "\n"
      ]
    },
    {
      "cell_type": "code",
      "metadata": {
        "id": "gTRt4xPLpR_l",
        "colab": {
          "base_uri": "https://localhost:8080/"
        },
        "outputId": "54d6ffc8-a9db-4b4a-8759-69c54b39e57e"
      },
      "source": [
        "!mkdir train_data\n",
        "!mkdir test_data\n",
        "!mkdir dev_data"
      ],
      "execution_count": 17,
      "outputs": [
        {
          "output_type": "stream",
          "name": "stdout",
          "text": [
            "mkdir: cannot create directory ‘train_data’: File exists\n",
            "mkdir: cannot create directory ‘test_data’: File exists\n",
            "mkdir: cannot create directory ‘dev_data’: File exists\n"
          ]
        }
      ]
    },
    {
      "cell_type": "code",
      "metadata": {
        "id": "eRkFYPGApaLJ"
      },
      "source": [
        "import numpy as np\n",
        "import pandas as pd\n",
        "import os\n",
        "import tarfile\n",
        "\n",
        "def extract_tar(file_path, destination):\n",
        "    with tarfile.open(file_path, 'r') as tar:\n",
        "        tar.extractall(destination)\n",
        "\n",
        "def check_and_extract(file_prefix, destination_folder, csv_data):\n",
        "    for i in range(len(csv_data)):\n",
        "        file_name = f\"{str(int(csv_data[i][0]))}_P.tar\"\n",
        "        file_path = os.path.join('/content/drive/MyDrive/DataSet/', file_name)\n",
        "        extraction_path = os.path.join(destination_folder, f\"{int(csv_data[i][0])}_P\")\n",
        "\n",
        "        if os.path.exists(file_path) and not os.path.exists(extraction_path):\n",
        "            extract_tar(file_path, destination_folder)\n",
        "\n",
        "dev_csv_path = '/content/drive/MyDrive/DataSet/dev_split.csv'\n",
        "test_csv_path = '/content/drive/MyDrive/DataSet/test_split.csv'\n",
        "train_csv_path = '/content/drive/MyDrive/DataSet/train_split.csv'\n",
        "\n",
        "dev = np.array(pd.read_csv(dev_csv_path, delimiter=',', encoding='utf-8'))[:, 0:2]\n",
        "test = np.array(pd.read_csv(test_csv_path, delimiter=',', encoding='utf-8'))[:, 0:2]\n",
        "train = np.array(pd.read_csv(train_csv_path, delimiter=',', encoding='utf-8'))[:, 0:2]\n",
        "\n",
        "# Define destination folders\n",
        "dev_destination = '/content/drive/MyDrive/DataSet/dev_data'\n",
        "test_destination = '/content/drive/MyDrive/DataSet/test_data'\n",
        "train_destination = '/content/drive/MyDrive/DataSet/train_data'\n",
        "\n",
        "# Create destination folders if they don't exist\n",
        "!mkdir -p $dev_destination\n",
        "!mkdir -p $test_destination\n",
        "!mkdir -p $train_destination\n",
        "\n",
        "# Check and extract tar files\n",
        "check_and_extract(\"dev\", dev_destination, dev)\n",
        "check_and_extract(\"test\", test_destination, test)\n",
        "check_and_extract(\"train\", train_destination, train)\n"
      ],
      "execution_count": 11,
      "outputs": []
    }
  ]
}